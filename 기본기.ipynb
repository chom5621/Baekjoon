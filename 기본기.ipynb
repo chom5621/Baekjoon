{
  "nbformat": 4,
  "nbformat_minor": 0,
  "metadata": {
    "colab": {
      "provenance": [],
      "collapsed_sections": [],
      "authorship_tag": "ABX9TyNk3Uwg+xmYUcpJWf/UW7wA",
      "include_colab_link": true
    },
    "kernelspec": {
      "name": "python3",
      "display_name": "Python 3"
    },
    "language_info": {
      "name": "python"
    }
  },
  "cells": [
    {
      "cell_type": "markdown",
      "metadata": {
        "id": "view-in-github",
        "colab_type": "text"
      },
      "source": [
        "<a href=\"https://colab.research.google.com/github/chom5621/Baekjoon/blob/main/%EA%B8%B0%EB%B3%B8%EA%B8%B0.ipynb\" target=\"_parent\"><img src=\"https://colab.research.google.com/assets/colab-badge.svg\" alt=\"Open In Colab\"/></a>"
      ]
    },
    {
      "cell_type": "code",
      "execution_count": null,
      "metadata": {
        "id": "LSrD6nndpoDt"
      },
      "outputs": [],
      "source": [
        "def 피보나치수(n):\n",
        "  f_0, f_1 = 0, 1\n",
        "  for i in range(n):\n",
        "    f_0, f_1 = f_1, f_0 + f_1\n",
        "  return f_0"
      ]
    },
    {
      "cell_type": "code",
      "source": [
        "피보나치수(10)"
      ],
      "metadata": {
        "colab": {
          "base_uri": "https://localhost:8080/"
        },
        "id": "zn4ds90_05BB",
        "outputId": "ec6fc3b2-a17a-4735-9286-77f4c48aecb9"
      },
      "execution_count": null,
      "outputs": [
        {
          "output_type": "execute_result",
          "data": {
            "text/plain": [
              "55"
            ]
          },
          "metadata": {},
          "execution_count": 8
        }
      ]
    },
    {
      "cell_type": "code",
      "source": [],
      "metadata": {
        "id": "eW_XhLdU084e"
      },
      "execution_count": null,
      "outputs": []
    },
    {
      "cell_type": "code",
      "source": [
        "import itertools\n",
        "\n",
        "def 일곱난쟁이(k):\n",
        " lst=list(itertools.combinations(k,7))\n",
        " lst7=[]\n",
        " for i in lst:\n",
        "   if sum(i)==100:\n",
        "     lst7=i\n",
        "     break\n",
        " lst7=sorted(lst7)\n",
        " return lst7"
      ],
      "metadata": {
        "id": "kcI4XjDL2xLA"
      },
      "execution_count": null,
      "outputs": []
    },
    {
      "cell_type": "code",
      "source": [
        "일곱난쟁이([20, 7 ,23, 19, 10, 15, 25, 8, 13])"
      ],
      "metadata": {
        "colab": {
          "base_uri": "https://localhost:8080/"
        },
        "id": "3xhsE0pe2whG",
        "outputId": "883a45e3-6bcb-47c6-a527-1c6810a2de2c"
      },
      "execution_count": null,
      "outputs": [
        {
          "output_type": "execute_result",
          "data": {
            "text/plain": [
              "[7, 8, 10, 13, 19, 20, 23]"
            ]
          },
          "metadata": {},
          "execution_count": 34
        }
      ]
    },
    {
      "cell_type": "code",
      "source": [],
      "metadata": {
        "id": "CTQayfgq3LLr"
      },
      "execution_count": null,
      "outputs": []
    },
    {
      "cell_type": "code",
      "source": [
        "def 최공(a,b):\n",
        "\n",
        "  # 최대공약수\n",
        "  for i in range(min(a,b), 0, -1):\n",
        "    if a % i == 0 and b % i ==0:\n",
        "      print(i)\n",
        "      break\n",
        "\n",
        "  # 최소공배수\n",
        "  for j in range(max(a,b),a*b+1):\n",
        "    if j % a == 0 and j % b == 0:\n",
        "      print(j)\n",
        "      break"
      ],
      "metadata": {
        "id": "bwpo2Pvx7poE"
      },
      "execution_count": null,
      "outputs": []
    },
    {
      "cell_type": "code",
      "source": [
        "최공(24, 18)"
      ],
      "metadata": {
        "colab": {
          "base_uri": "https://localhost:8080/"
        },
        "id": "SdYREldw7pdM",
        "outputId": "bc70562f-6b48-451a-d036-0bb6e05d4982"
      },
      "execution_count": null,
      "outputs": [
        {
          "output_type": "stream",
          "name": "stdout",
          "text": [
            "6\n",
            "72\n"
          ]
        }
      ]
    },
    {
      "cell_type": "code",
      "source": [],
      "metadata": {
        "id": "GpiPdKsJ9B5N"
      },
      "execution_count": null,
      "outputs": []
    },
    {
      "cell_type": "code",
      "source": [
        "def N번째큰수(k):\n",
        "  for i in range(k):\n",
        "    i = list(map(int, input().split()))\n",
        "    si = sorted(i,reverse=True)\n",
        "    print(si[2])  "
      ],
      "metadata": {
        "id": "NLjXeGI3xWRg"
      },
      "execution_count": null,
      "outputs": []
    },
    {
      "cell_type": "code",
      "source": [
        "N번째큰수(4)"
      ],
      "metadata": {
        "colab": {
          "base_uri": "https://localhost:8080/"
        },
        "id": "SwbZX78SxWHr",
        "outputId": "0297014e-6696-4fcd-8ff6-f882a71aa3a2"
      },
      "execution_count": null,
      "outputs": [
        {
          "output_type": "stream",
          "name": "stdout",
          "text": [
            "1 2 3 4 5 6 7 8 9 1000\n",
            "8\n",
            "338 304 619 95 343 496 489 116 98 127\n",
            "489\n",
            "931 240 986 894 826 640 965 833 136 138\n",
            "931\n",
            "940 955 364 188 133 254 501 122 768 408\n",
            "768\n"
          ]
        }
      ]
    },
    {
      "cell_type": "code",
      "source": [],
      "metadata": {
        "id": "AKyw2EbkyuTq"
      },
      "execution_count": null,
      "outputs": []
    },
    {
      "cell_type": "code",
      "source": [
        "def 소수찾기(N):\n",
        "  count = 0\n",
        "  N = int(input())\n",
        "  i = list(map(int, input().split()))\n",
        "  for ii in i:\n",
        "    k = 0\n",
        "    for j in range(1,ii+1):\n",
        "      if ii % j == 0:\n",
        "        k += 1\n",
        "      if k == 2:\n",
        "        count += 1\n",
        "  return count"
      ],
      "metadata": {
        "id": "WyiGlUC20JEG"
      },
      "execution_count": null,
      "outputs": []
    },
    {
      "cell_type": "code",
      "source": [
        "소수찾기(4)"
      ],
      "metadata": {
        "colab": {
          "base_uri": "https://localhost:8080/"
        },
        "id": "UPF748o92PWl",
        "outputId": "4cc38905-deff-45eb-cdeb-40666d401ba7"
      },
      "execution_count": null,
      "outputs": [
        {
          "name": "stdout",
          "output_type": "stream",
          "text": [
            "4\n",
            "1 3 5 7\n"
          ]
        },
        {
          "output_type": "execute_result",
          "data": {
            "text/plain": [
              "3"
            ]
          },
          "metadata": {},
          "execution_count": 23
        }
      ]
    },
    {
      "cell_type": "code",
      "source": [],
      "metadata": {
        "id": "_mWgrALj4LUn"
      },
      "execution_count": null,
      "outputs": []
    },
    {
      "cell_type": "code",
      "source": [
        "def 쉽게푸는문제(a,b):\n",
        "  #a,b=map(int, input().split())\n",
        "  sum=0\n",
        "  for i in range(a+1,b):\n",
        "    sum+=i\n",
        "  return sum"
      ],
      "metadata": {
        "id": "8Yzy7nIDA-Sk"
      },
      "execution_count": null,
      "outputs": []
    },
    {
      "cell_type": "code",
      "source": [
        "쉽게푸는문제(3,7)"
      ],
      "metadata": {
        "colab": {
          "base_uri": "https://localhost:8080/"
        },
        "id": "Jd5Lg4z7A-Fv",
        "outputId": "b0fea5ae-bb67-4153-cbf5-852ab528a586"
      },
      "execution_count": null,
      "outputs": [
        {
          "output_type": "execute_result",
          "data": {
            "text/plain": [
              "15"
            ]
          },
          "metadata": {},
          "execution_count": 27
        }
      ]
    },
    {
      "cell_type": "code",
      "source": [],
      "metadata": {
        "id": "g7Xe-mDcBpdg"
      },
      "execution_count": null,
      "outputs": []
    },
    {
      "cell_type": "code",
      "source": [
        "def 소수(M,N):\n",
        "  M=int(input())\n",
        "  N=int(input())\n",
        "  lst=[]\n",
        "  소수lst=[]\n",
        "  for i in range(M,N+1):\n",
        "    lst.append(i)\n",
        "  for j in lst:\n",
        "    count = 0\n",
        "    for k in range(1,j+1):\n",
        "      if j % k == 0:\n",
        "        count += 1\n",
        "      if count == 2:\n",
        "        소수lst.append(j)\n",
        "  print(sum(소수lst))\n",
        "  print(min(소수lst))"
      ],
      "metadata": {
        "id": "NN_IHJtkBxFX"
      },
      "execution_count": null,
      "outputs": []
    },
    {
      "cell_type": "code",
      "source": [
        "def 소수(M,N):\n",
        "  #M=int(input())\n",
        "  #N=int(input())\n",
        "\n",
        "  소수lst=[]\n",
        "\n",
        "  for i in range(M,N+1):\n",
        "\n",
        "    if i == 1:\n",
        "      pass\n",
        "    elif i == 2:\n",
        "      소수lst.append(i)\n",
        "    else:\n",
        "      for k in range(2,i):\n",
        "        if i % k == 0:\n",
        "          break\n",
        "        elif k == i-1:\n",
        "          소수lst.append(i)\n",
        "\n",
        "  if len(소수lst) == 0:\n",
        "    print(\"-1\")\n",
        "  else:\n",
        "    print(sum(소수lst))\n",
        "    print(min(소수lst))"
      ],
      "metadata": {
        "id": "GfQZRi-dD7Pw"
      },
      "execution_count": null,
      "outputs": []
    },
    {
      "cell_type": "code",
      "source": [
        "소수(60,100)"
      ],
      "metadata": {
        "colab": {
          "base_uri": "https://localhost:8080/"
        },
        "id": "voOWR2hJBw5V",
        "outputId": "01ace595-19c6-4be6-85f9-ac9f812b232a"
      },
      "execution_count": null,
      "outputs": [
        {
          "output_type": "stream",
          "name": "stdout",
          "text": [
            "620\n",
            "61\n"
          ]
        }
      ]
    },
    {
      "cell_type": "code",
      "source": [
        "소수(64,65)"
      ],
      "metadata": {
        "colab": {
          "base_uri": "https://localhost:8080/"
        },
        "id": "EBkxgBgeITsD",
        "outputId": "410bfb2f-19b6-428f-dc29-6ccf448ed3f4"
      },
      "execution_count": null,
      "outputs": [
        {
          "output_type": "stream",
          "name": "stdout",
          "text": [
            "-1\n"
          ]
        }
      ]
    },
    {
      "cell_type": "code",
      "source": [],
      "metadata": {
        "id": "PEY7r5KiRVW5"
      },
      "execution_count": null,
      "outputs": []
    }
  ]
}