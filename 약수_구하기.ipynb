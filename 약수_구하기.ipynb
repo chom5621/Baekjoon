{
  "nbformat": 4,
  "nbformat_minor": 0,
  "metadata": {
    "colab": {
      "name": "약수_구하기.ipynb",
      "provenance": [],
      "collapsed_sections": [],
      "authorship_tag": "ABX9TyP5NMqvEYSU7dDQCUxuNKTt",
      "include_colab_link": true
    },
    "kernelspec": {
      "name": "python3",
      "display_name": "Python 3"
    },
    "language_info": {
      "name": "python"
    }
  },
  "cells": [
    {
      "cell_type": "markdown",
      "metadata": {
        "id": "view-in-github",
        "colab_type": "text"
      },
      "source": [
        "<a href=\"https://colab.research.google.com/github/chom5621/Baekjoon/blob/main/%EC%95%BD%EC%88%98_%EA%B5%AC%ED%95%98%EA%B8%B0.ipynb\" target=\"_parent\"><img src=\"https://colab.research.google.com/assets/colab-badge.svg\" alt=\"Open In Colab\"/></a>"
      ]
    },
    {
      "cell_type": "markdown",
      "source": [
        "### 약수 구하기\n",
        "https://www.acmicpc.net/problem/2501"
      ],
      "metadata": {
        "id": "jJL0-6aJ1ZpN"
      }
    },
    {
      "cell_type": "code",
      "source": [
        "N, K = map(int, input().split())"
      ],
      "metadata": {
        "colab": {
          "base_uri": "https://localhost:8080/"
        },
        "id": "w3oPKSEk1ZSE",
        "outputId": "7ce587a9-1bf2-484a-d094-4bbb18a6e058"
      },
      "execution_count": 1,
      "outputs": [
        {
          "name": "stdout",
          "output_type": "stream",
          "text": [
            "6 3\n"
          ]
        }
      ]
    },
    {
      "cell_type": "code",
      "source": [
        "약수 = 0\n",
        "\n",
        "for i in range(1, N+1): # i = 1, 2, ... , N\n",
        "  if N % i == 0:        # N%1 = N, ... , N%N = 0\n",
        "    K -= 1              # 0일때마다 K에서 -1\n",
        "    if K == 0:          # K가 0되면\n",
        "      약수 = i          # 약수 = i\n",
        "      break"
      ],
      "metadata": {
        "id": "RXeq7-vt1ZI7"
      },
      "execution_count": 3,
      "outputs": []
    },
    {
      "cell_type": "code",
      "execution_count": 4,
      "metadata": {
        "colab": {
          "base_uri": "https://localhost:8080/"
        },
        "id": "F-2frww11CKp",
        "outputId": "8ee178f7-99c5-4067-ce48-05f1484222ce"
      },
      "outputs": [
        {
          "output_type": "stream",
          "name": "stdout",
          "text": [
            "3\n"
          ]
        }
      ],
      "source": [
        "print(약수)"
      ]
    },
    {
      "cell_type": "code",
      "source": [
        ""
      ],
      "metadata": {
        "id": "F9AllQUo7DwI"
      },
      "execution_count": null,
      "outputs": []
    },
    {
      "cell_type": "code",
      "source": [
        "N, K = map(int, input().split())"
      ],
      "metadata": {
        "colab": {
          "base_uri": "https://localhost:8080/"
        },
        "outputId": "4974d147-bbea-4d44-fe08-baed89c6328b",
        "id": "43vFNpe67ESU"
      },
      "execution_count": 5,
      "outputs": [
        {
          "name": "stdout",
          "output_type": "stream",
          "text": [
            "25 4\n"
          ]
        }
      ]
    },
    {
      "cell_type": "code",
      "source": [
        "약수 = 0\n",
        "\n",
        "for i in range(1, N): # i = 1, 2, ... , N\n",
        "  if N % i == 0:   # N%1 = N, ... , N%N = 0\n",
        "    K -= 1         # 0일때마다 K에서 -1\n",
        "    if K == 0:     # K가 0되면\n",
        "      약수 = i     # 약수 = i\n",
        "      break"
      ],
      "metadata": {
        "id": "vyPTX6Re7ESX"
      },
      "execution_count": 6,
      "outputs": []
    },
    {
      "cell_type": "code",
      "execution_count": 7,
      "metadata": {
        "colab": {
          "base_uri": "https://localhost:8080/"
        },
        "outputId": "d106d3cb-b11d-4483-8b58-4cb456ba32b8",
        "id": "_O51e88k7ESZ"
      },
      "outputs": [
        {
          "output_type": "stream",
          "name": "stdout",
          "text": [
            "0\n"
          ]
        }
      ],
      "source": [
        "print(약수)"
      ]
    },
    {
      "cell_type": "code",
      "source": [
        ""
      ],
      "metadata": {
        "id": "gZZQuyyW7H-t"
      },
      "execution_count": null,
      "outputs": []
    },
    {
      "cell_type": "code",
      "source": [
        "N, K = map(int, input().split())"
      ],
      "metadata": {
        "colab": {
          "base_uri": "https://localhost:8080/"
        },
        "outputId": "183d9ef0-87f2-45ca-f182-cfe2b81e4ed7",
        "id": "aZpjVbbN7KIn"
      },
      "execution_count": 8,
      "outputs": [
        {
          "name": "stdout",
          "output_type": "stream",
          "text": [
            "2735 1\n"
          ]
        }
      ]
    },
    {
      "cell_type": "code",
      "source": [
        "약수 = 0\n",
        "\n",
        "for i in range(1, N): # i = 1, 2, ... , N\n",
        "  if N % i == 0:   # N%1 = N, ... , N%N = 0\n",
        "    K -= 1         # 0일때마다 K에서 -1\n",
        "    if K == 0:     # K가 0되면\n",
        "      약수 = i     # 약수 = i\n",
        "      break"
      ],
      "metadata": {
        "id": "P6srh65O7KIq"
      },
      "execution_count": 9,
      "outputs": []
    },
    {
      "cell_type": "code",
      "execution_count": 10,
      "metadata": {
        "colab": {
          "base_uri": "https://localhost:8080/"
        },
        "outputId": "e8e56487-4ac5-4d5c-e849-e312404daf79",
        "id": "sLcj0Jdf7KIr"
      },
      "outputs": [
        {
          "output_type": "stream",
          "name": "stdout",
          "text": [
            "1\n"
          ]
        }
      ],
      "source": [
        "print(약수)"
      ]
    }
  ]
}