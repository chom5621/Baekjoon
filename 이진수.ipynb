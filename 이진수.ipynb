{
  "nbformat": 4,
  "nbformat_minor": 0,
  "metadata": {
    "colab": {
      "name": "이진수.ipynb",
      "provenance": [],
      "authorship_tag": "ABX9TyO35eaRpsLcQHr7ZRfkHqiO",
      "include_colab_link": true
    },
    "kernelspec": {
      "name": "python3",
      "display_name": "Python 3"
    },
    "language_info": {
      "name": "python"
    }
  },
  "cells": [
    {
      "cell_type": "markdown",
      "metadata": {
        "id": "view-in-github",
        "colab_type": "text"
      },
      "source": [
        "<a href=\"https://colab.research.google.com/github/chom5621/Baekjoon/blob/main/%EC%9D%B4%EC%A7%84%EC%88%98.ipynb\" target=\"_parent\"><img src=\"https://colab.research.google.com/assets/colab-badge.svg\" alt=\"Open In Colab\"/></a>"
      ]
    },
    {
      "cell_type": "markdown",
      "source": [
        "### 이진수\n",
        "https://www.acmicpc.net/problem/3460"
      ],
      "metadata": {
        "id": "gNlmonDj89Gp"
      }
    },
    {
      "cell_type": "code",
      "source": [
        "T = int(input())\n",
        "\n",
        "for i in range(T):\n",
        "  n = bin(int(input()))[2:] # bin()함수: 10진수 -> 2진수\n",
        "                            # ob1010과 같은 값이 나와서, 숫자만 사용하기 위해 슬라이싱으로 [2:] 잘라줌\n",
        "  for j in range(len(n)):\n",
        "    if n[-j-1] == \"1\":         # 위치가 낮은 것부터 출력\n",
        "                             # n[::-1]\n",
        "      print(j, end=' ')      # 1의 위치를 공백으로 구분해서 줄 하나에 출력"
      ],
      "metadata": {
        "colab": {
          "base_uri": "https://localhost:8080/"
        },
        "id": "MjNIo6xtllo0",
        "outputId": "a161c51f-c1f6-41d3-aa0e-d8295d2e4e2c"
      },
      "execution_count": 1,
      "outputs": [
        {
          "output_type": "stream",
          "name": "stdout",
          "text": [
            "1\n",
            "13\n",
            "0 2 3 "
          ]
        }
      ]
    },
    {
      "cell_type": "code",
      "source": [],
      "metadata": {
        "id": "g-GxD5lmMHNQ"
      },
      "execution_count": null,
      "outputs": []
    }
  ]
}