{
  "nbformat": 4,
  "nbformat_minor": 0,
  "metadata": {
    "colab": {
      "provenance": [],
      "collapsed_sections": [],
      "authorship_tag": "ABX9TyNMIUYeCAFBSA7kLOW57/eR",
      "include_colab_link": true
    },
    "kernelspec": {
      "name": "python3",
      "display_name": "Python 3"
    },
    "language_info": {
      "name": "python"
    }
  },
  "cells": [
    {
      "cell_type": "markdown",
      "metadata": {
        "id": "view-in-github",
        "colab_type": "text"
      },
      "source": [
        "<a href=\"https://colab.research.google.com/github/chom5621/Baekjoon/blob/main/%EC%BD%94%ED%85%8C%EA%B3%B5%EB%B6%80.ipynb\" target=\"_parent\"><img src=\"https://colab.research.google.com/assets/colab-badge.svg\" alt=\"Open In Colab\"/></a>"
      ]
    },
    {
      "cell_type": "markdown",
      "source": [
        "코드1"
      ],
      "metadata": {
        "id": "BQGyS1mQe1Mf"
      }
    },
    {
      "cell_type": "code",
      "source": [
        "def 코드1(n,m):\n",
        "  sum=0\n",
        "  for i in range(n,m+1): # range는 마지막수+1\n",
        "    i=str(i) # 문자열로 str()\n",
        "    if i[::-1]==i:\n",
        "      sum+=1\n",
        "  return sum"
      ],
      "metadata": {
        "id": "ZDGpsPqIey_D"
      },
      "execution_count": 12,
      "outputs": []
    },
    {
      "cell_type": "code",
      "source": [
        "코드1(1,100)"
      ],
      "metadata": {
        "colab": {
          "base_uri": "https://localhost:8080/"
        },
        "id": "PK4y_v9ceymH",
        "outputId": "935f09b4-9c7d-433e-a7a0-217c8032a25b"
      },
      "execution_count": 13,
      "outputs": [
        {
          "output_type": "execute_result",
          "data": {
            "text/plain": [
              "18"
            ]
          },
          "metadata": {},
          "execution_count": 13
        }
      ]
    },
    {
      "cell_type": "code",
      "source": [
        "코드1(100,300)"
      ],
      "metadata": {
        "colab": {
          "base_uri": "https://localhost:8080/"
        },
        "id": "uKbkfXwrf6Kw",
        "outputId": "053cb933-5820-4e1b-d6bb-9f5a60c7d18d"
      },
      "execution_count": 14,
      "outputs": [
        {
          "output_type": "execute_result",
          "data": {
            "text/plain": [
              "20"
            ]
          },
          "metadata": {},
          "execution_count": 14
        }
      ]
    },
    {
      "cell_type": "markdown",
      "source": [
        "코드2"
      ],
      "metadata": {
        "id": "zHUuIw0Ee4cn"
      }
    },
    {
      "cell_type": "code",
      "execution_count": 56,
      "metadata": {
        "id": "zq6j82Twea0Y"
      },
      "outputs": [],
      "source": [
        "import itertools\n",
        "\n",
        "def 코드2(숫자리스트):\n",
        "  answer=0\n",
        "  조합=list(itertools.combinations(숫자리스트,3))\n",
        "  \n",
        "  for i in 조합:\n",
        "    s=sum(i) # 튜플 합\n",
        "  \n",
        "    count=0\n",
        "    for j in range(1,s+1): # 소수 판별\n",
        "      if s % j == 0:\n",
        "        count += 1\n",
        "    if count == 2: # 소수 개수\n",
        "      answer += 1\n",
        "  return answer"
      ]
    },
    {
      "cell_type": "code",
      "source": [
        "코드2([1,2,4,7])\n",
        "# 1+2+4=7, 1+4+7=12, 1+2+7=10, 2+4+7=13 -> 2개"
      ],
      "metadata": {
        "colab": {
          "base_uri": "https://localhost:8080/"
        },
        "id": "XmEtU5GLeybJ",
        "outputId": "0408cf26-8bf8-43bd-9296-5b54373de593"
      },
      "execution_count": 57,
      "outputs": [
        {
          "output_type": "execute_result",
          "data": {
            "text/plain": [
              "2"
            ]
          },
          "metadata": {},
          "execution_count": 57
        }
      ]
    },
    {
      "cell_type": "markdown",
      "source": [
        "코드3"
      ],
      "metadata": {
        "id": "enoc0emOgh4e"
      }
    },
    {
      "cell_type": "code",
      "source": [
        "def 코드3(리스트):\n",
        "  answer=[]\n",
        "  lstx=[]\n",
        "  lsty=[]\n",
        "  for i in 리스트:\n",
        "    lstx.append(i[0])\n",
        "    lsty.append(i[1])\n",
        "  for a in lstx:\n",
        "    if lstx.count(a) == 1: # 리스트.count('찾을문자')\n",
        "      answer.append(a)\n",
        "  for b in lsty:\n",
        "    if lsty.count(b) == 1:\n",
        "      answer.append(b)\n",
        "  return answer"
      ],
      "metadata": {
        "id": "VU53hsmreyRa"
      },
      "execution_count": 1,
      "outputs": []
    },
    {
      "cell_type": "code",
      "source": [
        "코드3([[1,4], [3,4], [3,10]])"
      ],
      "metadata": {
        "colab": {
          "base_uri": "https://localhost:8080/"
        },
        "id": "lTUMEQv-i-r-",
        "outputId": "af1a2315-c80b-4e46-fc41-408402f32e75"
      },
      "execution_count": 2,
      "outputs": [
        {
          "output_type": "execute_result",
          "data": {
            "text/plain": [
              "[1, 10]"
            ]
          },
          "metadata": {},
          "execution_count": 2
        }
      ]
    },
    {
      "cell_type": "code",
      "source": [
        "코드3([[1,1], [2,2], [1,2]])"
      ],
      "metadata": {
        "colab": {
          "base_uri": "https://localhost:8080/"
        },
        "id": "NJR1VeQTjIrc",
        "outputId": "f80b58d8-c70a-44d6-f897-54185a898205"
      },
      "execution_count": 3,
      "outputs": [
        {
          "output_type": "execute_result",
          "data": {
            "text/plain": [
              "[2, 1]"
            ]
          },
          "metadata": {},
          "execution_count": 3
        }
      ]
    },
    {
      "cell_type": "code",
      "source": [],
      "metadata": {
        "id": "7ize-6S_5dIt"
      },
      "execution_count": null,
      "outputs": []
    }
  ]
}