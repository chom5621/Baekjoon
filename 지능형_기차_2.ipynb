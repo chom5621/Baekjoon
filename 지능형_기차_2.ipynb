{
  "nbformat": 4,
  "nbformat_minor": 0,
  "metadata": {
    "colab": {
      "name": "지능형 기차 2",
      "provenance": [],
      "collapsed_sections": [],
      "authorship_tag": "ABX9TyNcuQDYEqBCJdN4YnwJ1Yaw",
      "include_colab_link": true
    },
    "kernelspec": {
      "name": "python3",
      "display_name": "Python 3"
    },
    "language_info": {
      "name": "python"
    }
  },
  "cells": [
    {
      "cell_type": "markdown",
      "metadata": {
        "id": "view-in-github",
        "colab_type": "text"
      },
      "source": [
        "<a href=\"https://colab.research.google.com/github/chom5621/Baekjoon/blob/main/%EC%A7%80%EB%8A%A5%ED%98%95_%EA%B8%B0%EC%B0%A8_2.ipynb\" target=\"_parent\"><img src=\"https://colab.research.google.com/assets/colab-badge.svg\" alt=\"Open In Colab\"/></a>"
      ]
    },
    {
      "cell_type": "markdown",
      "source": [
        "### 지능형 기차 2\n",
        "https://www.acmicpc.net/problem/2460"
      ],
      "metadata": {
        "id": "gNlmonDj89Gp"
      }
    },
    {
      "cell_type": "code",
      "source": [
        "승객수 = 0\n",
        "최대승객수 = 0\n",
        "\n",
        "for i in range(10):\n",
        "    내린승객수, 탄승객수  = map(int, input().split()) \n",
        "    승객수 += 탄승객수 - 내린승객수 \n",
        "    최대승객수 = max(승객수, 최대승객수) \n",
        "    \n",
        "print(최대승객수)"
      ],
      "metadata": {
        "colab": {
          "base_uri": "https://localhost:8080/"
        },
        "id": "MjNIo6xtllo0",
        "outputId": "d74ff4b3-1020-497a-c035-6634456449a9"
      },
      "execution_count": 1,
      "outputs": [
        {
          "output_type": "stream",
          "name": "stdout",
          "text": [
            "0 32\n",
            "3 13\n",
            "28 25\n",
            "17 5\n",
            "21 20\n",
            "11 0\n",
            "12 12\n",
            "4 2\n",
            "0 8\n",
            "21 0\n",
            "42\n"
          ]
        }
      ]
    },
    {
      "cell_type": "code",
      "source": [
        "승객수 = 0\n",
        "탄승객수lst = [] \n",
        "\n",
        "for i in range(10):\n",
        "    내린승객수, 탄승객수 = list(map(int,input().split()))\n",
        "    승객수 = 승객수 - 내린승객수 + 탄승객수\n",
        "    탄승객수lst.append(승객수)\n",
        "\n",
        "print(max(탄승객수lst))\n",
        "#탄승객수lst.sort()\n",
        "#print(탄승객수lst[-1])"
      ],
      "metadata": {
        "colab": {
          "base_uri": "https://localhost:8080/"
        },
        "id": "B-qWnF5lAlQn",
        "outputId": "bb8d3a1c-270b-49f9-e49a-ec922197eec2"
      },
      "execution_count": 3,
      "outputs": [
        {
          "output_type": "stream",
          "name": "stdout",
          "text": [
            "0 32\n",
            "3 13\n",
            "28 25\n",
            "17 5\n",
            "21 20\n",
            "11 0\n",
            "12 12\n",
            "4 2\n",
            "0 8\n",
            "21 0\n",
            "42\n"
          ]
        }
      ]
    }
  ]
}