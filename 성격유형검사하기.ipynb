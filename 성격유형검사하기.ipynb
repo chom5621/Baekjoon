{
  "nbformat": 4,
  "nbformat_minor": 0,
  "metadata": {
    "colab": {
      "provenance": [],
      "authorship_tag": "ABX9TyMXftBBVTeXLUGyu9+/tqUA",
      "include_colab_link": true
    },
    "kernelspec": {
      "name": "python3",
      "display_name": "Python 3"
    },
    "language_info": {
      "name": "python"
    }
  },
  "cells": [
    {
      "cell_type": "markdown",
      "metadata": {
        "id": "view-in-github",
        "colab_type": "text"
      },
      "source": [
        "<a href=\"https://colab.research.google.com/github/chom5621/Baekjoon/blob/main/%EC%84%B1%EA%B2%A9%EC%9C%A0%ED%98%95%EA%B2%80%EC%82%AC%ED%95%98%EA%B8%B0.ipynb\" target=\"_parent\"><img src=\"https://colab.research.google.com/assets/colab-badge.svg\" alt=\"Open In Colab\"/></a>"
      ]
    },
    {
      "cell_type": "markdown",
      "source": [
        "성격유형 검사하기"
      ],
      "metadata": {
        "id": "fmdOU6_8yxaT"
      }
    },
    {
      "cell_type": "code",
      "execution_count": 1,
      "metadata": {
        "id": "ZPGXtTgFgYru"
      },
      "outputs": [],
      "source": [
        "유형={\"R\":0,\"T\":0,\"C\":0,\"F\":0,\"J\":0,\"M\":0,\"A\":0,\"N\":0}"
      ]
    },
    {
      "cell_type": "code",
      "source": [
        "유형[\"R\"]"
      ],
      "metadata": {
        "colab": {
          "base_uri": "https://localhost:8080/"
        },
        "id": "BkjRFBeHxtIC",
        "outputId": "9ff88082-7f96-44c0-9bcf-3bdbdb2daa2a"
      },
      "execution_count": 2,
      "outputs": [
        {
          "output_type": "execute_result",
          "data": {
            "text/plain": [
              "0"
            ]
          },
          "metadata": {},
          "execution_count": 2
        }
      ]
    },
    {
      "cell_type": "code",
      "source": [
        "def solution(survey, choices):\n",
        "    answer = ''\n",
        "    \n",
        "    유형={\"R\":0,\"T\":0,\"C\":0,\"F\":0,\"J\":0,\"M\":0,\"A\":0,\"N\":0}\n",
        "    \n",
        "    for i in range(len(survey)):\n",
        "        if choices[i] == 1:\n",
        "            유형[survey[i][0]]+=3\n",
        "        elif choices[i] == 2:\n",
        "            유형[survey[i][0]]+=2\n",
        "        elif choices[i] == 3:\n",
        "            유형[survey[i][0]]+=1\n",
        "        elif choices[i] == 5:\n",
        "            유형[survey[i][1]]+=1\n",
        "        elif choices[i] == 6:\n",
        "            유형[survey[i][1]]+=2\n",
        "        elif choices[i] == 7:\n",
        "            유형[survey[i][1]]+=3\n",
        "            \n",
        "    if 유형[\"R\"]>=유형[\"T\"]:\n",
        "        answer=answer+\"R\"\n",
        "    else:\n",
        "        answer=answer+\"T\"\n",
        "    \n",
        "    if 유형[\"C\"]>=유형[\"F\"]:\n",
        "        answer=answer+\"C\"\n",
        "    else:\n",
        "        answer=answer+\"F\"\n",
        "        \n",
        "    if 유형[\"J\"]>=유형[\"M\"]:\n",
        "        answer=answer+\"J\"\n",
        "    else:\n",
        "        answer=answer+\"M\"\n",
        "        \n",
        "    if 유형[\"A\"]>=유형[\"N\"]:\n",
        "        answer=answer+\"A\"\n",
        "    else:\n",
        "        answer=answer+\"N\"\n",
        "    \n",
        "    return answer"
      ],
      "metadata": {
        "id": "jNfx1Hkxxu0A"
      },
      "execution_count": 6,
      "outputs": []
    },
    {
      "cell_type": "code",
      "source": [
        "solution([\"AN\", \"CF\", \"MJ\", \"RT\", \"NA\"],[5, 3, 2, 7, 5])"
      ],
      "metadata": {
        "colab": {
          "base_uri": "https://localhost:8080/",
          "height": 36
        },
        "id": "xqwuivY7xxwO",
        "outputId": "932c877b-2e3a-4529-c371-32a29fa528a8"
      },
      "execution_count": 7,
      "outputs": [
        {
          "output_type": "execute_result",
          "data": {
            "text/plain": [
              "'TCMA'"
            ],
            "application/vnd.google.colaboratory.intrinsic+json": {
              "type": "string"
            }
          },
          "metadata": {},
          "execution_count": 7
        }
      ]
    },
    {
      "cell_type": "code",
      "source": [],
      "metadata": {
        "id": "3fIUuFZJyPob"
      },
      "execution_count": null,
      "outputs": []
    }
  ]
}