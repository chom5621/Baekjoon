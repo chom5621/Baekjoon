{
  "nbformat": 4,
  "nbformat_minor": 0,
  "metadata": {
    "colab": {
      "name": "최소, 최대",
      "provenance": [],
      "authorship_tag": "ABX9TyNlZ2m2LbVqdKEdSwyk970+",
      "include_colab_link": true
    },
    "kernelspec": {
      "name": "python3",
      "display_name": "Python 3"
    },
    "language_info": {
      "name": "python"
    }
  },
  "cells": [
    {
      "cell_type": "markdown",
      "metadata": {
        "id": "view-in-github",
        "colab_type": "text"
      },
      "source": [
        "<a href=\"https://colab.research.google.com/github/chom5621/Baekjoon/blob/main/%EC%B5%9C%EC%86%8C%2C_%EC%B5%9C%EB%8C%80.ipynb\" target=\"_parent\"><img src=\"https://colab.research.google.com/assets/colab-badge.svg\" alt=\"Open In Colab\"/></a>"
      ]
    },
    {
      "cell_type": "markdown",
      "source": [
        "### 최소, 최대\n",
        "https://www.acmicpc.net/problem/10818"
      ],
      "metadata": {
        "id": "gNlmonDj89Gp"
      }
    },
    {
      "cell_type": "code",
      "source": [
        "N = int(input())\n",
        "lst=list(map(int, input().split()))\n",
        "print(min(lst), max(lst), end=' ')"
      ],
      "metadata": {
        "colab": {
          "base_uri": "https://localhost:8080/"
        },
        "id": "MjNIo6xtllo0",
        "outputId": "e7376197-e23b-4d5a-df9a-1dd44b37a720"
      },
      "execution_count": 13,
      "outputs": [
        {
          "output_type": "stream",
          "name": "stdout",
          "text": [
            "5\n",
            "20 10 35 30 7\n",
            "7 35 "
          ]
        }
      ]
    }
  ]
}